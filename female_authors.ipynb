{
 "cells": [
  {
   "cell_type": "markdown",
   "id": "9e7410ce",
   "metadata": {},
   "source": [
    "This code uses the Turkish Political Economy Biographical Library and makes a list of female authors."
   ]
  },
  {
   "cell_type": "code",
   "execution_count": 6,
   "id": "e4c80dd4",
   "metadata": {},
   "outputs": [
    {
     "name": "stdout",
     "output_type": "stream",
     "text": [
      "Name and Surname of Author               Date of Birth               Date of Death     First Name  Last Name    Sex\n",
      "                 Afet İnan                      1908.0                      1985.0           Afet       İnan Female\n",
      " Amiran Kurtkan Bilgiseven                      1926.0                      2005.0 Amiran Kurtkan Bilgiseven Female\n",
      "              Behice Boran                      1910.0                      1987.0   Behice Sadık      Boran Female\n",
      "     Fatma Nilüfer Çağatay                      1955.0                      2022.0  Fatma Nilüfer    Çağatay Female\n",
      "           Gülgün Avcıoğlu Not available at the moment Not available at the moment         Gülgün   Avcıoğlu Female\n",
      "              Gülten Kutal                      1939.0                      2021.0         Gülten      Kutal Female\n",
      "               Güzin Erlat                      1948.0                      2023.0          Güzin      Erlat Female\n",
      "         Hafize Üren Arsan                      1934.0 Not available at the moment    Hafize Üren      Arsan Female\n",
      "        Halime Leyla Oygur                      1945.0                      2003.0   Halime Leyla      Oygur Female\n",
      "               İclal Ersin                      1915.0 Not available at the moment          İclal      Ersin Female\n",
      "               Mediha Arol Not available at the moment Not available at the moment         Mediha       Arol Female\n",
      "             Mine E. Çınar Not available at the moment                      2024.0        Mine E.      Çınar Female\n",
      "                Mine Kalay                      1982.0                      2017.0           Mine      Kalay Female\n",
      "         Mübahat Kütükoğlu                      1930.0 Not available at the moment        Mübahat  Kütükoğlu Female\n",
      "      Mübeccel Belik Kıray                      1923.0                      2007.0 Mübeccel Belik      Kıray Female\n",
      "      Nakibe Topuz Uzgören Not available at the moment Not available at the moment   Nakibe Topuz    Uzgören Female\n",
      "             Nezihe Sönmez                      1930.0                      2009.0         Nezihe     Sönmez Female\n",
      "            Nurhan Akçaylı                      1929.0                      2019.0         Nurhan    Akçaylı Female\n",
      "              Sevim Görgün                      1928.0                      2010.0          Sevim     Görgün Female\n",
      "                Tülay Arın                      1945.0                      2009.0          Tülay       Arın Female\n",
      "            Türkel Minibaş                      1953.0                      2019.0         Türkel    Minibaş Female\n",
      "             Zehra Başkaya                      1958.0                      2014.0          Zehra    Başkaya Female\n"
     ]
    }
   ],
   "source": [
    "# Import pandas for data manipulation\n",
    "import pandas as pd\n",
    "\n",
    "# Import the dataset\n",
    "df = pd.read_csv(r\".\\files\\biographical_library.csv\")\n",
    "\n",
    "# Filter for female authors (case-insensitive)\n",
    "female_authors = df[df['sex'].str.lower() == 'female']\n",
    "\n",
    "# Select relevant columns for the table (customize as needed)\n",
    "columns_to_include = ['id', 'date_of_birth', 'date_of_death', 'first_name', 'last_name', 'sex']\n",
    "female_authors_table = female_authors[columns_to_include]\n",
    "\n",
    "# Rename columns for clarity\n",
    "female_authors_table = female_authors_table.rename(columns={\n",
    "    'id': 'Name and Surname of Author',\n",
    "    'date_of_birth': 'Date of Birth',\n",
    "    'date_of_death': 'Date of Death',\n",
    "    'first_name': 'First Name',\n",
    "    'last_name': 'Last Name',\n",
    "    'sex': 'Sex'\n",
    "})\n",
    "\n",
    "# Replace NaN or missing values with 'Not available at the moment'\n",
    "female_authors_table = female_authors_table.fillna('Not available at the moment')\n",
    "\n",
    "# Print the resulting table,\n",
    "print(female_authors_table.to_string(index=False))"
   ]
  }
 ],
 "metadata": {
  "kernelspec": {
   "display_name": "Python 3",
   "language": "python",
   "name": "python3"
  },
  "language_info": {
   "codemirror_mode": {
    "name": "ipython",
    "version": 3
   },
   "file_extension": ".py",
   "mimetype": "text/x-python",
   "name": "python",
   "nbconvert_exporter": "python",
   "pygments_lexer": "ipython3",
   "version": "3.13.5"
  }
 },
 "nbformat": 4,
 "nbformat_minor": 5
}
