{
 "cells": [
  {
   "cell_type": "markdown",
   "id": "c6d70c8d",
   "metadata": {},
   "source": [
    "**A List of Non-Ottoman and Non-Turkish Scholars**\n",
    "\n",
    "This code uses the dataset of *The Turkish Political Economy Biographical Library* in *The Turkish Political Economy Database, from the 1800s to Date*. It generates a list of non-Ottoman and non-Turkish scholars in the dataset.\n",
    "\n",
    "**Citation**: Yalçıntaş, A., Kızılyurt, Ö., Başaran, V., Tok, A. Voyvoda, N., Gelmedi, Ş., Bal, E., Kasap, O. (n.d.). *The Turkish Political Economy Database, from the 1800s to Date*. Retrieved from [Github](https://github.com/sekerefe/TRPolEcon_Public)"
   ]
  },
  {
   "cell_type": "code",
   "execution_count": null,
   "id": "49549e2e",
   "metadata": {},
   "outputs": [
    {
     "name": "stdout",
     "output_type": "stream",
     "text": [
      "      Name and Surname of Author\n",
      "2                      A. Snurov\n",
      "13                Adolf Heidborn\n",
      "14              Adriene Biliotti\n",
      "49     Alexander Israel Helphand\n",
      "50              Alexander Rüstow\n",
      "..                           ...\n",
      "640          Will Seymour Monroe\n",
      "641  William Nosworthy Churchill\n",
      "642            Xavier Heuschling\n",
      "643               Y. N. Rozaliev\n",
      "669          Zvi Yehuda Hershlag\n",
      "\n",
      "[71 rows x 1 columns]\n"
     ]
    }
   ],
   "source": [
    "#Imnport necessary libraries\n",
    "import pandas as pd \n",
    "\n",
    "# Path to the CSV file\n",
    "csv_path = r\"..\\files\\biographical_library.csv\"\n",
    "\n",
    "# Load the CSV file into a DataFrame\n",
    "df = pd.read_csv(csv_path)\n",
    "\n",
    "# Filter the DataFrame based on 'tabiyet'\n",
    "non_ottoman_non_turkish_authors = df[df[\"tabiyet\"] == 'Non-Ottoman / Non-Turkish']\n",
    "\n",
    "# Select the 'id' column for the filtered authors\n",
    "author_ids = non_ottoman_non_turkish_authors[[\"id\"]]\n",
    "\n",
    "# Rename the 'id' column to 'Name and Surname of Author'\n",
    "author_ids = author_ids.rename(columns={\"id\": \"Name and Surname of Author\"})\n",
    "\n",
    "# Replace NaN or missing values with 'Not available at the moment'\n",
    "author_ids = author_ids.fillna(\"Not available at the moment\")\n",
    "\n",
    "# Display the full table\n",
    "print(author_ids)"
   ]
  }
 ],
 "metadata": {
  "kernelspec": {
   "display_name": "Python 3",
   "language": "python",
   "name": "python3"
  },
  "language_info": {
   "codemirror_mode": {
    "name": "ipython",
    "version": 3
   },
   "file_extension": ".py",
   "mimetype": "text/x-python",
   "name": "python",
   "nbconvert_exporter": "python",
   "pygments_lexer": "ipython3",
   "version": "3.13.5"
  }
 },
 "nbformat": 4,
 "nbformat_minor": 5
}
