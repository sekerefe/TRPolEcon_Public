{
 "cells": [
  {
   "cell_type": "markdown",
   "id": "f60bb136",
   "metadata": {},
   "source": [
    "**A List of Female Scholars**\n",
    "\n",
    "This code uses the dataset of *The Turkish Political Economy Biographical Library* in *The Turkish Political Economy Database, from the 1800s to Date*. It generates a list of female scholars in the dataset.\n",
    "\n",
    "**Citation**: Yalçıntaş, A., Kızılyurt, Ö., Başaran, V., Tok, A. Voyvoda, N., Gelmedi, Ş., Bal, E., Kasap, O. (n.d.). *The Turkish Political Economy Database, from the 1800s to Date*. Retrieved from [Github](https://github.com/sekerefe/TRPolEcon_Public)"
   ]
  },
  {
   "cell_type": "code",
   "execution_count": null,
   "id": "e96c2ab2",
   "metadata": {},
   "outputs": [
    {
     "name": "stdout",
     "output_type": "stream",
     "text": [
      "    Name and Surname of Author                Date of Birth  \\\n",
      "15                   Afet İnan                       1908.0   \n",
      "75   Amiran Kurtkan Bilgiseven                       1926.0   \n",
      "104               Behice Boran                       1910.0   \n",
      "205      Fatma Nilüfer Çağatay                       1955.0   \n",
      "233            Gülgün Avcıoğlu  Not available at the moment   \n",
      "234               Gülten Kutal                       1939.0   \n",
      "240                Güzin Erlat                       1948.0   \n",
      "241          Hafize Üren Arsan                       1934.0   \n",
      "251         Halime Leyla Oygur                       1945.0   \n",
      "304                İclal Ersin                       1915.0   \n",
      "372                Mediha Arol  Not available at the moment   \n",
      "423              Mine E. Çınar  Not available at the moment   \n",
      "424                 Mine Kalay                       1982.0   \n",
      "428          Mübahat Kütükoğlu                       1930.0   \n",
      "429       Mübeccel Belik Kıray                       1923.0   \n",
      "458       Nakibe Topuz Uzgören  Not available at the moment   \n",
      "478              Nezihe Sönmez                       1930.0   \n",
      "487             Nurhan Akçaylı                       1929.0   \n",
      "585               Sevim Görgün                       1928.0   \n",
      "619                 Tülay Arın                       1945.0   \n",
      "624             Türkel Minibaş                       1953.0   \n",
      "659              Zehra Başkaya                       1958.0   \n",
      "\n",
      "                   Date of Death      First Name   Last Name     Sex  \n",
      "15                        1985.0            Afet        İnan  Female  \n",
      "75                        2005.0  Amiran Kurtkan  Bilgiseven  Female  \n",
      "104                       1987.0    Behice Sadık       Boran  Female  \n",
      "205                       2022.0   Fatma Nilüfer     Çağatay  Female  \n",
      "233  Not available at the moment          Gülgün    Avcıoğlu  Female  \n",
      "234                       2021.0          Gülten       Kutal  Female  \n",
      "240                       2023.0           Güzin       Erlat  Female  \n",
      "241  Not available at the moment     Hafize Üren       Arsan  Female  \n",
      "251                       2003.0    Halime Leyla       Oygur  Female  \n",
      "304  Not available at the moment           İclal       Ersin  Female  \n",
      "372  Not available at the moment          Mediha        Arol  Female  \n",
      "423                       2024.0         Mine E.       Çınar  Female  \n",
      "424                       2017.0            Mine       Kalay  Female  \n",
      "428  Not available at the moment         Mübahat   Kütükoğlu  Female  \n",
      "429                       2007.0  Mübeccel Belik       Kıray  Female  \n",
      "458  Not available at the moment    Nakibe Topuz     Uzgören  Female  \n",
      "478                       2009.0          Nezihe      Sönmez  Female  \n",
      "487                       2019.0          Nurhan     Akçaylı  Female  \n",
      "585                       2010.0           Sevim      Görgün  Female  \n",
      "619                       2009.0           Tülay        Arın  Female  \n",
      "624                       2019.0          Türkel     Minibaş  Female  \n",
      "659                       2014.0           Zehra     Başkaya  Female  \n"
     ]
    }
   ],
   "source": [
    "#Import necessary libraries\n",
    "import pandas as pd\n",
    "\n",
    "# Path to the CSV file\n",
    "csv_path = r'..\\files\\biographical_library.csv'\n",
    "\n",
    "# Read the CSV file\n",
    "df = pd.read_csv(csv_path)\n",
    "\n",
    "# Filter for female authors (case-insensitive)\n",
    "female_authors = df[df['sex'].str.lower() == 'female']\n",
    "\n",
    "# Select relevant columns for the table (customize as needed)\n",
    "columns_to_include = ['id', 'date_of_birth', 'date_of_death', 'first_name', 'last_name', 'sex']\n",
    "female_authors_table = female_authors[columns_to_include]\n",
    "\n",
    "# Rename columns for clarity\n",
    "female_authors_table = female_authors_table.rename(columns={\n",
    "    'id': 'Name and Surname of Author',\n",
    "    'date_of_birth': 'Date of Birth',\n",
    "    'date_of_death': 'Date of Death',\n",
    "    'first_name': 'First Name',\n",
    "    'last_name': 'Last Name',\n",
    "    'sex': 'Sex'\n",
    "})\n",
    "\n",
    "# Replace NaN or missing values with 'Not available at the moment'\n",
    "female_authors_table = female_authors_table.fillna('Not available at the moment')\n",
    "\n",
    "# Display the table\n",
    "print(female_authors_table)"
   ]
  }
 ],
 "metadata": {
  "kernelspec": {
   "display_name": "Python 3",
   "language": "python",
   "name": "python3"
  },
  "language_info": {
   "codemirror_mode": {
    "name": "ipython",
    "version": 3
   },
   "file_extension": ".py",
   "mimetype": "text/x-python",
   "name": "python",
   "nbconvert_exporter": "python",
   "pygments_lexer": "ipython3",
   "version": "3.13.5"
  }
 },
 "nbformat": 4,
 "nbformat_minor": 5
}
