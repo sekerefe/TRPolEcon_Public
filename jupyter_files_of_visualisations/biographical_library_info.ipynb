{
 "cells": [
  {
   "cell_type": "markdown",
   "id": "aca340fb",
   "metadata": {},
   "source": [
    "**Basic Information about the Turkish Political Economy Biographical Library**\n",
    "\n",
    "This code uses the dataset of *The Turkish Political Economy Biographical Library* in *The Turkish Political Economy Database, from the 1800s to Date*. It gives a summary of the dataset.\n",
    "\n",
    "**Citation**: Yalçıntaş, A., Kızılyurt, Ö., Başaran, V., Tok, A. Voyvoda, N., Gelmedi, Ş., Bal, E., Kasap, O. (n.d.). *The Turkish Political Economy Database, from the 1800s to Date*. Retrieved from [Github](https://github.com/sekerefe/TRPolEcon_Public)"
   ]
  },
  {
   "cell_type": "code",
   "execution_count": 2,
   "id": "8d170969",
   "metadata": {},
   "outputs": [
    {
     "name": "stdout",
     "output_type": "stream",
     "text": [
      "DataFrame Info:\n",
      "<class 'pandas.core.frame.DataFrame'>\n",
      "RangeIndex: 671 entries, 0 to 670\n",
      "Data columns (total 97 columns):\n",
      " #   Column                                  Non-Null Count  Dtype  \n",
      "---  ------                                  --------------  -----  \n",
      " 0   data_complete                           671 non-null    object \n",
      " 1    palgrave_ready                         671 non-null    object \n",
      " 2   deadline                                46 non-null     object \n",
      " 3   id                                      670 non-null    object \n",
      " 4   responsible_contributor                 292 non-null    object \n",
      " 5   published                               0 non-null      float64\n",
      " 6   ai_summary                              671 non-null    object \n",
      " 7   first_name                              656 non-null    object \n",
      " 8   last_name                               667 non-null    object \n",
      " 9   title                                   48 non-null     object \n",
      " 10  also_known_as                           57 non-null     object \n",
      " 11  about                                   165 non-null    object \n",
      " 12  date_of_birth                           512 non-null    float64\n",
      " 13  city_of_birth                           465 non-null    object \n",
      " 14  longitude_of_city_of_birth              238 non-null    object \n",
      " 15  latitude_of_city_of_birth               520 non-null    object \n",
      " 16  country_of_birth                        483 non-null    object \n",
      " 17  city_of_birth_today                     473 non-null    object \n",
      " 18  immigration_status                      474 non-null    object \n",
      " 19  date_of_death                           494 non-null    float64\n",
      " 20  city_of_death                           349 non-null    object \n",
      " 21  latitude_of_city_of_death               220 non-null    object \n",
      " 22  longitude_of_city_of_death              423 non-null    object \n",
      " 23  country_of_death                        406 non-null    object \n",
      " 24  city_of_death_today                     356 non-null    object \n",
      " 25  sex                                     670 non-null    object \n",
      " 26  nationality                             572 non-null    object \n",
      " 27  millet                                  44 non-null     object \n",
      " 28  tabiyet                                 117 non-null    object \n",
      " 29  first_role_author_or_translator         304 non-null    object \n",
      " 30  second_role_academic_position           173 non-null    object \n",
      " 31  third_role_administrative_duty          106 non-null    object \n",
      " 32  last_academic_affiliation               229 non-null    object \n",
      " 33  lastaffiliation_date                    605 non-null    float64\n",
      " 34  reason_for_leaving                      72 non-null     object \n",
      " 35  medrese_rustiye_idadi                   45 non-null     object \n",
      " 36  mri_graduation_date                     596 non-null    float64\n",
      " 37  mri_city                                36 non-null     object \n",
      " 38  darulfunun                              37 non-null     object \n",
      " 39  darulunun_department                    31 non-null     object \n",
      " 40  darulfunun_graduation_date              585 non-null    float64\n",
      " 41  bsc_institution                         289 non-null    object \n",
      " 42  bsc_field                               133 non-null    object \n",
      " 43  bsc_city                                290 non-null    object \n",
      " 44  latitude_of_bsc_city                    333 non-null    object \n",
      " 45  longitude_of_bsc_city                   308 non-null    float64\n",
      " 46  bsc_country                             293 non-null    object \n",
      " 47  bsc_graduation_date                     553 non-null    float64\n",
      " 48  masters_institution                     38 non-null     object \n",
      " 49  masters_field                           32 non-null     object \n",
      " 50  masters_graduation_date                 612 non-null    float64\n",
      " 51  masters_thesis_supervised_by            22 non-null     object \n",
      " 52  masters_thesis_title                    24 non-null     object \n",
      " 53  masters_city                            37 non-null     object \n",
      " 54  latitude_of_masters_city                137 non-null    object \n",
      " 55  longitude_of_masters_city               76 non-null     object \n",
      " 56  masters_country                         37 non-null     object \n",
      " 57  doctoral_institution                    256 non-null    object \n",
      " 58  date_of_doctoral_degree                 610 non-null    float64\n",
      " 59  doctoral_thesis_supervised_by           77 non-null     object \n",
      " 60  doctoral_thesis_supervisor_of           71 non-null     object \n",
      " 61  doctoral_field                          157 non-null    object \n",
      " 62  doctoral_city                           256 non-null    object \n",
      " 63  latitude_of_doctoral_city               314 non-null    object \n",
      " 64  longitude_of_doctoral_city              162 non-null    object \n",
      " 65  doctoral_country                        258 non-null    object \n",
      " 66  doctoral_thesis_title                   162 non-null    object \n",
      " 67  doctoral_thesis_language                176 non-null    object \n",
      " 68  docentlik_or_habilitation_institution   113 non-null    object \n",
      " 69  docentlik_or_habilitation_thesis_title  111 non-null    object \n",
      " 70  docentlik_or_habilitation_date          160 non-null    float64\n",
      " 71  docentlik_or_habilitation_city          20 non-null     object \n",
      " 72  longitude_of_docentlik                  0 non-null      float64\n",
      " 73  latitude_of_docentlik                   0 non-null      float64\n",
      " 74  docentlik_country                       19 non-null     object \n",
      " 75  docentlik_language                      116 non-null    object \n",
      " 76  first_expertise                         101 non-null    object \n",
      " 77  second_expertise                        79 non-null     object \n",
      " 78  third_expertise                         60 non-null     object \n",
      " 79  ai_keywords                             671 non-null    object \n",
      " 80  first_selected_book                     347 non-null    object \n",
      " 81  second_selected_book                    165 non-null    object \n",
      " 82  third_selected_book                     91 non-null     object \n",
      " 83  fourth_selected_book                    54 non-null     object \n",
      " 84  fifth_selected_book                     35 non-null     object \n",
      " 85  first_selected_article                  163 non-null    object \n",
      " 86  second_selected_article                 77 non-null     object \n",
      " 87  third_selected_article                  59 non-null     object \n",
      " 88  fourth_selected_article                 45 non-null     object \n",
      " 89  fifth_selected_article                  35 non-null     object \n",
      " 90  zotero_library                          29 non-null     object \n",
      " 91  publications_language                   172 non-null    object \n",
      " 92  autobiography                           36 non-null     object \n",
      " 93  autobiography_language                  31 non-null     object \n",
      " 94  references                              237 non-null    object \n",
      " 95  influenced_by_gen_ai                    671 non-null    object \n",
      " 96  influenced_by_manual                    15 non-null     object \n",
      "dtypes: float64(13), object(84)\n",
      "memory usage: 508.6+ KB\n"
     ]
    }
   ],
   "source": [
    "# Import necessary libraries\n",
    "import pandas as pd\n",
    "import io\n",
    "import os\n",
    "\n",
    "# Path to the CSV file\n",
    "df = pd.read_csv(r'..\\files\\biographical_library.csv')\n",
    "\n",
    "# Print basic information about the DataFrame\n",
    "print(\"DataFrame Info:\")\n",
    "df.info()"
   ]
  },
  {
   "cell_type": "code",
   "execution_count": 3,
   "id": "33eb3602",
   "metadata": {},
   "outputs": [
    {
     "name": "stdout",
     "output_type": "stream",
     "text": [
      "\n",
      "Shape of the DataFrame (rows, columns):\n",
      "(671, 97)\n"
     ]
    }
   ],
   "source": [
    "# Print the number of rows and columns\n",
    "print(\"\\nShape of the DataFrame (rows, columns):\")\n",
    "print(df.shape)"
   ]
  },
  {
   "cell_type": "code",
   "execution_count": 4,
   "id": "c1b83172",
   "metadata": {},
   "outputs": [
    {
     "name": "stdout",
     "output_type": "stream",
     "text": [
      "\n",
      "Column names and data types:\n",
      "data_complete              object\n",
      " palgrave_ready            object\n",
      "deadline                   object\n",
      "id                         object\n",
      "responsible_contributor    object\n",
      "                            ...  \n",
      "autobiography              object\n",
      "autobiography_language     object\n",
      "references                 object\n",
      "influenced_by_gen_ai       object\n",
      "influenced_by_manual       object\n",
      "Length: 97, dtype: object\n"
     ]
    }
   ],
   "source": [
    "# Print the column names and their data types\n",
    "print(\"\\nColumn names and data types:\")\n",
    "print(df.dtypes)"
   ]
  }
 ],
 "metadata": {
  "kernelspec": {
   "display_name": "Python 3",
   "language": "python",
   "name": "python3"
  },
  "language_info": {
   "codemirror_mode": {
    "name": "ipython",
    "version": 3
   },
   "file_extension": ".py",
   "mimetype": "text/x-python",
   "name": "python",
   "nbconvert_exporter": "python",
   "pygments_lexer": "ipython3",
   "version": "3.13.5"
  }
 },
 "nbformat": 4,
 "nbformat_minor": 5
}
